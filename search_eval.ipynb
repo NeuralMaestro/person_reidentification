{
  "nbformat": 4,
  "nbformat_minor": 0,
  "metadata": {
    "colab": {
      "provenance": []
    },
    "kernelspec": {
      "name": "python3",
      "display_name": "Python 3"
    },
    "language_info": {
      "name": "python"
    }
  },
  "cells": [
    {
      "cell_type": "markdown",
      "source": [
        "# to binary\n"
      ],
      "metadata": {
        "id": "rqNt9EdTSLwa"
      }
    },
    {
      "cell_type": "code",
      "source": [
        "!pip install hexhamming"
      ],
      "metadata": {
        "id": "xZCgtK-9JKAb"
      },
      "execution_count": null,
      "outputs": []
    },
    {
      "cell_type": "code",
      "source": [
        "from hexhamming import hamming_distance_bytes\n",
        "from hexhamming import hamming_distance_string\n",
        "import numpy as np\n",
        "import time\n",
        "import binascii"
      ],
      "metadata": {
        "id": "_W0xACLJJJiT"
      },
      "execution_count": null,
      "outputs": []
    },
    {
      "cell_type": "code",
      "source": [
        "feats = np.random.uniform(low=-1, high=1, size=2048)"
      ],
      "metadata": {
        "id": "og6OkZKcTgbt"
      },
      "execution_count": null,
      "outputs": []
    },
    {
      "cell_type": "code",
      "source": [
        "bool_feats = feats >= 0"
      ],
      "metadata": {
        "id": "VyImweubS531"
      },
      "execution_count": null,
      "outputs": []
    },
    {
      "cell_type": "code",
      "source": [
        "bytes_vec = bytes(np.packbits(bool_feats))"
      ],
      "metadata": {
        "id": "JxLuqRjDSOnr"
      },
      "execution_count": null,
      "outputs": []
    },
    {
      "cell_type": "code",
      "source": [
        "hex_vec = binascii.hexlify(np.packbits(bool_feats)).decode('utf-8')"
      ],
      "metadata": {
        "id": "ofnSgehlT2oY"
      },
      "execution_count": null,
      "outputs": []
    },
    {
      "cell_type": "code",
      "source": [
        "hamming_distance_bytes(bytes_vec, bytes_vec)"
      ],
      "metadata": {
        "colab": {
          "base_uri": "https://localhost:8080/"
        },
        "id": "Z5IgjwunUghv",
        "outputId": "528c1658-c0e0-46f1-e46c-8f52ae4343d9"
      },
      "execution_count": null,
      "outputs": [
        {
          "output_type": "execute_result",
          "data": {
            "text/plain": [
              "0"
            ]
          },
          "metadata": {},
          "execution_count": 21
        }
      ]
    },
    {
      "cell_type": "code",
      "source": [
        "hamming_distance_string(hex_vec, hex_vec)"
      ],
      "metadata": {
        "colab": {
          "base_uri": "https://localhost:8080/"
        },
        "id": "l9ow-UxdUjqb",
        "outputId": "c32ee5bf-cb1e-4db4-cb01-74f8722a4f1f"
      },
      "execution_count": null,
      "outputs": [
        {
          "output_type": "execute_result",
          "data": {
            "text/plain": [
              "0"
            ]
          },
          "metadata": {},
          "execution_count": 22
        }
      ]
    },
    {
      "cell_type": "code",
      "source": [
        "loop=500000\n",
        "ts = time.time()\n",
        "for i in range(loop):\n",
        "    bool_feats = np.sign(feats)\n",
        "\n",
        "print(f\"avg time: {(time.time()-ts)/loop:.8f}\")"
      ],
      "metadata": {
        "colab": {
          "base_uri": "https://localhost:8080/"
        },
        "id": "8wHNj9Y7V5Rw",
        "outputId": "e8100a77-c205-42b8-a679-807b507566b2"
      },
      "execution_count": null,
      "outputs": [
        {
          "output_type": "stream",
          "name": "stdout",
          "text": [
            "avg time: 0.00000971\n"
          ]
        }
      ]
    },
    {
      "cell_type": "code",
      "source": [
        "loop=10000000\n",
        "ts = time.time()\n",
        "for i in range(loop):\n",
        "    bool_feats = feats >= 0\n",
        "\n",
        "print(f\"avg time: {(time.time()-ts)/loop:.8f}\")"
      ],
      "metadata": {
        "colab": {
          "base_uri": "https://localhost:8080/"
        },
        "id": "TgX2nIRxD6H8",
        "outputId": "aa26ccfa-da69-4047-d5b0-228c4e41950a"
      },
      "execution_count": null,
      "outputs": [
        {
          "output_type": "stream",
          "name": "stdout",
          "text": [
            "avg time: 0.00000283\n"
          ]
        }
      ]
    },
    {
      "cell_type": "code",
      "source": [
        "loop=1000000\n",
        "ts = time.time()\n",
        "for i in range(loop):\n",
        "    hex_vec = binascii.hexlify(np.packbits(bool_feats)).decode('utf-8')\n",
        "\n",
        "print(f\"avg time: {(time.time()-ts)/loop:.8f}\")"
      ],
      "metadata": {
        "colab": {
          "base_uri": "https://localhost:8080/"
        },
        "id": "d7AsGUJSEp5W",
        "outputId": "4f0a0c06-d4b3-4829-f3f6-bd1ac22e3a0f"
      },
      "execution_count": null,
      "outputs": [
        {
          "output_type": "stream",
          "name": "stdout",
          "text": [
            "avg time: 0.00000230\n"
          ]
        }
      ]
    },
    {
      "cell_type": "code",
      "source": [
        "loop=10000000\n",
        "ts = time.time()\n",
        "for i in range(loop):\n",
        "    bytes_vec = bytes(np.packbits(bool_feats))\n",
        "\n",
        "print(f\"avg time: {(time.time()-ts)/loop:.8f}\")"
      ],
      "metadata": {
        "colab": {
          "base_uri": "https://localhost:8080/"
        },
        "id": "Qkq3QjJQE_gm",
        "outputId": "1af2a2e7-af1a-4a92-f017-8e4b4c065703"
      },
      "execution_count": null,
      "outputs": [
        {
          "output_type": "stream",
          "name": "stdout",
          "text": [
            "avg time: 0.00000184\n"
          ]
        }
      ]
    },
    {
      "cell_type": "markdown",
      "source": [
        "# hamming"
      ],
      "metadata": {
        "id": "Gp1kYOZjJ3P9"
      }
    },
    {
      "cell_type": "code",
      "source": [
        "query_vector = np.random.rand(512)\n",
        "gallery_vector = np.random.rand(512)"
      ],
      "metadata": {
        "id": "kaC-v3vuriRy"
      },
      "execution_count": null,
      "outputs": []
    },
    {
      "cell_type": "code",
      "source": [
        "q=1\n",
        "g=1\n",
        "s=512\n",
        "dtype='int'"
      ],
      "metadata": {
        "id": "mtyqo15Hr9OK"
      },
      "execution_count": null,
      "outputs": []
    },
    {
      "cell_type": "code",
      "source": [
        "# create two random bool matrices\n",
        "X = np.random.randint(low=0, high=2, size=(q, s)).astype(dtype)\n",
        "Y = np.random.randint(low=0, high=2, size=(g, s)).astype(dtype)"
      ],
      "metadata": {
        "id": "uXhU3qndr6cB"
      },
      "execution_count": null,
      "outputs": []
    },
    {
      "cell_type": "code",
      "source": [
        "# convert to hex\n",
        "query_hex = [binascii.hexlify(np.packbits(query_feat)).decode('utf-8') for query_feat in X][0]\n",
        "gallery_hex = [binascii.hexlify(np.packbits(gallery_feat)).decode('utf-8') for gallery_feat in Y][0]\n",
        "# result = np.zeros((X.shape[0], Y.shape[0]), dtype='int16') # distances up to vector length\n",
        "\n",
        "# convert to int\n",
        "query_int = [int.from_bytes(np.packbits(row), byteorder='big', signed=False) for row in X]\n",
        "gallery_int = [int.from_bytes(np.packbits(row), byteorder='big', signed=False) for row in Y]\n",
        "# result = np.zeros((X.shape[0], Y.shape[0]), dtype='int16') # distances up to vector length\n",
        "\n",
        "# int to bytestring\n",
        "query_bytes = [val.to_bytes(64*4, byteorder='big') for val in query_int][0]\n",
        "gallery_bytes = [val.to_bytes(64*4, byteorder='big') for val in gallery_int][0]\n",
        "# result = np.zeros((X.shape[0], Y.shape[0]), dtype='int16') # distances up to vector length"
      ],
      "metadata": {
        "id": "5AqDmQfFr0uW"
      },
      "execution_count": null,
      "outputs": []
    },
    {
      "cell_type": "code",
      "source": [
        "import sys"
      ],
      "metadata": {
        "id": "b3E5jCwG18l9"
      },
      "execution_count": null,
      "outputs": []
    },
    {
      "cell_type": "code",
      "source": [
        "query_hex"
      ],
      "metadata": {
        "colab": {
          "base_uri": "https://localhost:8080/",
          "height": 36
        },
        "id": "NoZzno_NvBqi",
        "outputId": "6af11aa6-b0c4-4b13-b693-ca2b204cabfd"
      },
      "execution_count": null,
      "outputs": [
        {
          "output_type": "execute_result",
          "data": {
            "text/plain": [
              "'dfc752501b442dea4d218522847cfbee8fc91ba5f57d9a15616ff823c446220d8d50e44e93f13c991cc2549e472f2f197ac82c6299bff924ad3eb586568eec67'"
            ],
            "application/vnd.google.colaboratory.intrinsic+json": {
              "type": "string"
            }
          },
          "metadata": {},
          "execution_count": 10
        }
      ]
    },
    {
      "cell_type": "code",
      "source": [
        "sys.getsizeof(query_hex)"
      ],
      "metadata": {
        "colab": {
          "base_uri": "https://localhost:8080/"
        },
        "id": "RhTcRIi319y9",
        "outputId": "95b3e7a1-b105-4935-954f-4a5f93037cea"
      },
      "execution_count": null,
      "outputs": [
        {
          "output_type": "execute_result",
          "data": {
            "text/plain": [
              "177"
            ]
          },
          "metadata": {},
          "execution_count": 15
        }
      ]
    },
    {
      "cell_type": "code",
      "source": [
        "query_bytes"
      ],
      "metadata": {
        "colab": {
          "base_uri": "https://localhost:8080/"
        },
        "id": "zzc7JXcOvD7T",
        "outputId": "95e81ead-4087-4785-9ec8-9f3ef6a866d2"
      },
      "execution_count": null,
      "outputs": [
        {
          "output_type": "execute_result",
          "data": {
            "text/plain": [
              "b'\\x00\\x00\\x00\\x00\\x00\\x00\\x00\\x00\\x00\\x00\\x00\\x00\\x00\\x00\\x00\\x00\\x00\\x00\\x00\\x00\\x00\\x00\\x00\\x00\\x00\\x00\\x00\\x00\\x00\\x00\\x00\\x00\\x00\\x00\\x00\\x00\\x00\\x00\\x00\\x00\\x00\\x00\\x00\\x00\\x00\\x00\\x00\\x00\\x00\\x00\\x00\\x00\\x00\\x00\\x00\\x00\\x00\\x00\\x00\\x00\\x00\\x00\\x00\\x00\\x00\\x00\\x00\\x00\\x00\\x00\\x00\\x00\\x00\\x00\\x00\\x00\\x00\\x00\\x00\\x00\\x00\\x00\\x00\\x00\\x00\\x00\\x00\\x00\\x00\\x00\\x00\\x00\\x00\\x00\\x00\\x00\\x00\\x00\\x00\\x00\\x00\\x00\\x00\\x00\\x00\\x00\\x00\\x00\\x00\\x00\\x00\\x00\\x00\\x00\\x00\\x00\\x00\\x00\\x00\\x00\\x00\\x00\\x00\\x00\\x00\\x00\\x00\\x00\\x00\\x00\\x00\\x00\\x00\\x00\\x00\\x00\\x00\\x00\\x00\\x00\\x00\\x00\\x00\\x00\\x00\\x00\\x00\\x00\\x00\\x00\\x00\\x00\\x00\\x00\\x00\\x00\\x00\\x00\\x00\\x00\\x00\\x00\\x00\\x00\\x00\\x00\\x00\\x00\\x00\\x00\\x00\\x00\\x00\\x00\\x00\\x00\\x00\\x00\\x00\\x00\\x00\\x00\\x00\\x00\\x00\\x00\\x00\\x00\\x00\\x00\\x00\\x00\\xdf\\xc7RP\\x1bD-\\xeaM!\\x85\"\\x84|\\xfb\\xee\\x8f\\xc9\\x1b\\xa5\\xf5}\\x9a\\x15ao\\xf8#\\xc4F\"\\r\\x8dP\\xe4N\\x93\\xf1<\\x99\\x1c\\xc2T\\x9eG//\\x19z\\xc8,b\\x99\\xbf\\xf9$\\xad>\\xb5\\x86V\\x8e\\xecg'"
            ]
          },
          "metadata": {},
          "execution_count": 17
        }
      ]
    },
    {
      "cell_type": "code",
      "source": [
        "sys.getsizeof(query_bytes)"
      ],
      "metadata": {
        "colab": {
          "base_uri": "https://localhost:8080/"
        },
        "id": "Fexp-A_z2BdI",
        "outputId": "3b9611a8-c1d4-4e33-8463-d640c49b426a"
      },
      "execution_count": null,
      "outputs": [
        {
          "output_type": "execute_result",
          "data": {
            "text/plain": [
              "289"
            ]
          },
          "metadata": {},
          "execution_count": 16
        }
      ]
    },
    {
      "cell_type": "code",
      "source": [
        "def hamming_dist(a, b):\n",
        "    return np.linalg.norm(a-b, ord=1)"
      ],
      "metadata": {
        "id": "I0BUgnMr8y-z"
      },
      "execution_count": null,
      "outputs": []
    },
    {
      "cell_type": "code",
      "source": [
        "loop=20000\n",
        "ts = time.time()\n",
        "for i in range(loop):\n",
        "    hamming_dist(query_vector, gallery_vector)\n",
        "print(f\"avg time: {(time.time()-ts)/loop:.20f}\")"
      ],
      "metadata": {
        "colab": {
          "base_uri": "https://localhost:8080/"
        },
        "id": "q_0pjri584fn",
        "outputId": "625e238f-7831-4fa6-ea75-1200b6a9607b"
      },
      "execution_count": null,
      "outputs": [
        {
          "output_type": "stream",
          "name": "stdout",
          "text": [
            "avg time: 0.00001481646299362183\n"
          ]
        }
      ]
    },
    {
      "cell_type": "code",
      "source": [
        "loop=200000\n",
        "ts = time.time()\n",
        "for i in range(loop):\n",
        "    hamming_distance_string(query_hex, gallery_hex)\n",
        "print(f\"avg time: {(time.time()-ts)/loop:.20f}\")"
      ],
      "metadata": {
        "colab": {
          "base_uri": "https://localhost:8080/"
        },
        "id": "VrWQxa_Ft4nP",
        "outputId": "168d6953-f413-48d6-ed6e-50b5d42c3eea"
      },
      "execution_count": null,
      "outputs": [
        {
          "output_type": "stream",
          "name": "stdout",
          "text": [
            "avg time: 0.00000130429625511169\n"
          ]
        }
      ]
    },
    {
      "cell_type": "code",
      "source": [
        "loop=2000000\n",
        "ts = time.time()\n",
        "for i in range(loop):\n",
        "    hamming_distance_string(query_hex, gallery_hex)\n",
        "print(f\"avg time: {(time.time()-ts)/loop:.20f}\")"
      ],
      "metadata": {
        "colab": {
          "base_uri": "https://localhost:8080/"
        },
        "id": "0gs2jmIquIx1",
        "outputId": "0ac4fee0-7e89-4caa-d647-5fd5b7fc804c"
      },
      "execution_count": null,
      "outputs": [
        {
          "output_type": "stream",
          "name": "stdout",
          "text": [
            "avg time: 0.00000130367422103882\n"
          ]
        }
      ]
    },
    {
      "cell_type": "code",
      "source": [
        "loop=2000000\n",
        "ts = time.time()\n",
        "for i in range(loop):\n",
        "    hamming_distance_bytes(query_bytes, gallery_bytes)\n",
        "print(f\"avg time: {(time.time()-ts)/loop:.20f}\")"
      ],
      "metadata": {
        "colab": {
          "base_uri": "https://localhost:8080/"
        },
        "id": "RuWLQlfltZwN",
        "outputId": "96430d30-b24a-48bf-ba37-924bf8f9885c"
      },
      "execution_count": null,
      "outputs": [
        {
          "output_type": "stream",
          "name": "stdout",
          "text": [
            "avg time: 0.00000024015940427780\n"
          ]
        }
      ]
    },
    {
      "cell_type": "code",
      "source": [
        "query_vector = np.random.rand(2048)\n",
        "gallery_vector = np.random.rand(2048)"
      ],
      "metadata": {
        "id": "FjvpDmDW2ybv"
      },
      "execution_count": null,
      "outputs": []
    },
    {
      "cell_type": "code",
      "source": [
        "loop=20000000\n",
        "ts = time.time()\n",
        "for i in range(loop):\n",
        "    hamming_distance_bytes(query_bytes, gallery_bytes)\n",
        "print(f\"avg time: {(time.time()-ts)/loop:.20f}\")"
      ],
      "metadata": {
        "colab": {
          "base_uri": "https://localhost:8080/"
        },
        "id": "qlNvysoj2yKf",
        "outputId": "0b245948-da3a-4cfe-a680-2284592198dc"
      },
      "execution_count": null,
      "outputs": [
        {
          "output_type": "stream",
          "name": "stdout",
          "text": [
            "avg time: 0.00000024321949481964\n"
          ]
        }
      ]
    },
    {
      "cell_type": "code",
      "source": [
        "loop=20000000\n",
        "ts = time.time()\n",
        "for i in range(loop):\n",
        "    hamming_distance_string(query_hex, gallery_hex)\n",
        "print(f\"avg time: {(time.time()-ts)/loop:.20f}\")"
      ],
      "metadata": {
        "colab": {
          "base_uri": "https://localhost:8080/"
        },
        "id": "7yrhKR3K2yBX",
        "outputId": "d98f25b9-393c-4abe-a9ac-db9cf2a75d21"
      },
      "execution_count": null,
      "outputs": [
        {
          "output_type": "stream",
          "name": "stdout",
          "text": [
            "avg time: 0.00000138589892387390\n"
          ]
        }
      ]
    },
    {
      "cell_type": "markdown",
      "source": [
        "# cosine"
      ],
      "metadata": {
        "id": "1gvrkRkIwTNp"
      }
    },
    {
      "cell_type": "code",
      "source": [
        "feats = np.random.uniform(low=-1, high=1, size=(1, 2048))"
      ],
      "metadata": {
        "id": "sdbRe1GSHbiR"
      },
      "execution_count": null,
      "outputs": []
    },
    {
      "cell_type": "code",
      "source": [
        "featsg = np.random.uniform(low=-1, high=1, size=(1, 2048))"
      ],
      "metadata": {
        "id": "jZPT8QqsHg8o"
      },
      "execution_count": null,
      "outputs": []
    },
    {
      "cell_type": "code",
      "source": [
        "loop=1000\n",
        "ts = time.time()\n",
        "for i in range(loop):\n",
        "    cosine_dist2(feats, featsg)\n",
        "    # hex_vec = binascii.hexlify(np.packbits(bool_feats)).decode('utf-8')\n",
        "\n",
        "print(f\"avg time: {(time.time()-ts)/loop:.8f}\")"
      ],
      "metadata": {
        "colab": {
          "base_uri": "https://localhost:8080/"
        },
        "id": "fG24M4qkIWgN",
        "outputId": "35933f18-d650-46b4-adcc-798bd955ca38"
      },
      "execution_count": null,
      "outputs": [
        {
          "output_type": "stream",
          "name": "stdout",
          "text": [
            "avg time: 0.00008039\n"
          ]
        }
      ]
    },
    {
      "cell_type": "code",
      "source": [
        "loop=500\n",
        "ts = time.time()\n",
        "for i in range(loop):\n",
        "    res = cosine_dist3(feats, featsg)\n",
        "    # hex_vec = binascii.hexlify(np.packbits(bool_feats)).decode('utf-8')\n",
        "\n",
        "print(f\"avg time: {(time.time()-ts)/loop:.8f}\")"
      ],
      "metadata": {
        "colab": {
          "base_uri": "https://localhost:8080/"
        },
        "id": "Euw7LW9gJvKe",
        "outputId": "400a8c5c-78a1-4ce2-8fa9-225279fc5dc7"
      },
      "execution_count": null,
      "outputs": [
        {
          "output_type": "stream",
          "name": "stdout",
          "text": [
            "avg time: 0.00268628\n"
          ]
        }
      ]
    },
    {
      "cell_type": "code",
      "source": [
        "loop=5000\n",
        "ts = time.time()\n",
        "for i in range(loop):\n",
        "    res = cosine_dist4(feats, featsg)\n",
        "    # hex_vec = binascii.hexlify(np.packbits(bool_feats)).decode('utf-8')\n",
        "\n",
        "print(f\"avg time: {(time.time()-ts)/loop:.8f}\")"
      ],
      "metadata": {
        "colab": {
          "base_uri": "https://localhost:8080/"
        },
        "id": "vn-ep333Kp34",
        "outputId": "a9907e0f-e49e-45d6-e8cb-13b19fa6ab3b"
      },
      "execution_count": null,
      "outputs": [
        {
          "output_type": "stream",
          "name": "stdout",
          "text": [
            "avg time: 0.00334512\n"
          ]
        }
      ]
    },
    {
      "cell_type": "code",
      "source": [
        "import numpy as np\n",
        "from sklearn.metrics.pairwise import cosine_distances\n",
        "\n",
        "def cosine_dist(matrix1, matrix2):\n",
        "    distances = cosine_distances(matrix1, matrix2)\n",
        "    return distances"
      ],
      "metadata": {
        "id": "04km_GcFIUri"
      },
      "execution_count": null,
      "outputs": []
    },
    {
      "cell_type": "code",
      "source": [
        "def cosine_dist4(a, b):\n",
        "    # Calculate the norms of the rows of a and b\n",
        "    a_norms = np.linalg.norm(a, axis=1)\n",
        "    b_norms = np.linalg.norm(b, axis=1)\n",
        "\n",
        "    # Compute cosine distances using reshaping and broadcasting\n",
        "    # a_norms_reshaped = a_norms.reshape(-1, 1)\n",
        "    # b_norms_reshaped = b_norms.reshape(1, -1)\n",
        "    distances = 1 - np.matmul(a, b.T) / (a_norms.reshape(-1, 1) *b_norms.reshape(1, -1))\n",
        "\n",
        "    return distances"
      ],
      "metadata": {
        "id": "CJJaH1MMKhcb"
      },
      "execution_count": null,
      "outputs": []
    },
    {
      "cell_type": "code",
      "source": [
        "def cosine_dist3(a, b):\n",
        "    # Calculate the norms of the rows of a and b\n",
        "    a_norms = np.linalg.norm(a, axis=1)\n",
        "    b_norms = np.linalg.norm(b, axis=1)\n",
        "\n",
        "    # Compute cosine distances using broadcasting\n",
        "    distances = 1 - np.matmul(a, b.T) / (a_norms[:, np.newaxis] * b_norms)\n",
        "\n",
        "    return distances\n"
      ],
      "metadata": {
        "id": "1qh1TS3IJsYS"
      },
      "execution_count": null,
      "outputs": []
    },
    {
      "cell_type": "code",
      "source": [
        "def cosine_dist2(a, b):\n",
        "    # Calculate the norms of the rows of a and b\n",
        "    a_norms = np.linalg.norm(a, axis=1)\n",
        "    b_norms = np.linalg.norm(b, axis=1)\n",
        "    return 1 - np.matmul(a, b.T) / np.outer(a_norms, b_norms)"
      ],
      "metadata": {
        "id": "fVhsz7RIJBko"
      },
      "execution_count": null,
      "outputs": []
    },
    {
      "cell_type": "code",
      "source": [
        "def cosine_distance_matrix(X, Y):\n",
        "    # Normalize the vectors in X and Y\n",
        "    X_norm = X / np.linalg.norm(X, axis=1, keepdims=True)\n",
        "    Y_norm = Y / np.linalg.norm(Y, axis=1, keepdims=True)\n",
        "\n",
        "    # Compute the dot product of X_norm and Y_norm using matrix multiplication\n",
        "    dot_product = np.dot(X_norm, Y_norm.T)\n",
        "\n",
        "    # Compute the element-wise difference between the dot product and a matrix of ones\n",
        "    cosine_distance = 1 - dot_product\n",
        "    return cosine_distance"
      ],
      "metadata": {
        "id": "JZzWyI8GHS4o"
      },
      "execution_count": null,
      "outputs": []
    },
    {
      "cell_type": "code",
      "source": [
        "def cosine_similarity(x, y):\n",
        "    return np.dot(x, y) / (np.sqrt(np.dot(x, x)) * np.sqrt(np.dot(y, y)))"
      ],
      "metadata": {
        "id": "ngkU42098sTo"
      },
      "execution_count": null,
      "outputs": []
    },
    {
      "cell_type": "code",
      "source": [
        "def cosine_dist(a, b):\n",
        "    # Calculate the norms of the rows of a and b\n",
        "    a_norms = np.linalg.norm(a)\n",
        "    b_norms = np.linalg.norm(b)\n",
        "    return 1 - np.matmul(a, b.T) / np.outer(a_norms, b_norms)"
      ],
      "metadata": {
        "id": "Gw8Sz8N2xYNQ"
      },
      "execution_count": null,
      "outputs": []
    },
    {
      "cell_type": "code",
      "source": [
        "def euclidean_dist(a, b):\n",
        "    return np.linalg.norm(a-b)"
      ],
      "metadata": {
        "id": "7NBq2-9pyWyk"
      },
      "execution_count": null,
      "outputs": []
    },
    {
      "cell_type": "code",
      "source": [
        "def euclidean_dist2(a, b):\n",
        "    return np.sqrt(np.sum((a-b)**2))"
      ],
      "metadata": {
        "id": "Gpo3RP-P9mRk"
      },
      "execution_count": null,
      "outputs": []
    },
    {
      "cell_type": "code",
      "source": [
        "from scipy.spatial.distance import cosine, euclidean"
      ],
      "metadata": {
        "id": "LWCsAfw1sQNj"
      },
      "execution_count": null,
      "outputs": []
    },
    {
      "cell_type": "code",
      "source": [
        "q = np.random.uniform(-1, 1, size=512)\n",
        "g = np.random.uniform(-1, 1, size=512)"
      ],
      "metadata": {
        "id": "T2ZbMY_HwY2x"
      },
      "execution_count": null,
      "outputs": []
    },
    {
      "cell_type": "code",
      "source": [
        "loop=1000000\n",
        "\n",
        "start_time = time.time()\n",
        "for i in range(loop):\n",
        "        euclidean_dist2(q, g)\n",
        "end_time = time.time()\n",
        "\n",
        "print(f\"avg time: {(end_time-start_time)/loop:.20f}\")"
      ],
      "metadata": {
        "colab": {
          "base_uri": "https://localhost:8080/"
        },
        "id": "KXtLLUzU9rBY",
        "outputId": "3849951a-8ffc-4391-a5c0-f9f2562cbf2f"
      },
      "execution_count": null,
      "outputs": [
        {
          "output_type": "stream",
          "name": "stdout",
          "text": [
            "avg time: 0.00000930650162696838\n"
          ]
        }
      ]
    },
    {
      "cell_type": "code",
      "source": [
        "\n",
        "loop=1000000\n",
        "\n",
        "start_time = time.time()\n",
        "for i in range(loop):\n",
        "        euclidean_dist(q, g)\n",
        "end_time = time.time()\n",
        "\n",
        "print(f\"avg time: {(end_time-start_time)/loop:.20f}\")"
      ],
      "metadata": {
        "colab": {
          "base_uri": "https://localhost:8080/"
        },
        "id": "n5uoQHezyiE8",
        "outputId": "83aa792c-5f44-4be3-92c1-fbd9c634e384"
      },
      "execution_count": null,
      "outputs": [
        {
          "output_type": "stream",
          "name": "stdout",
          "text": [
            "avg time: 0.00000602378964424133\n"
          ]
        }
      ]
    },
    {
      "cell_type": "code",
      "source": [
        "loop=100000\n",
        "\n",
        "start_time = time.time()\n",
        "for i in range(loop):\n",
        "        cosine_dist(q, g)\n",
        "end_time = time.time()\n",
        "\n",
        "print(f\"avg time: {(end_time-start_time)/loop:.20f}\")"
      ],
      "metadata": {
        "colab": {
          "base_uri": "https://localhost:8080/"
        },
        "id": "_XfDuVtwxbb1",
        "outputId": "f134965b-35ba-4ac1-b16f-d34b097d81b3"
      },
      "execution_count": null,
      "outputs": [
        {
          "output_type": "stream",
          "name": "stdout",
          "text": [
            "avg time: 0.00002456041574478150\n"
          ]
        }
      ]
    },
    {
      "cell_type": "code",
      "source": [
        "q = np.random.uniform(-1, 1, size=2048)\n",
        "g = np.random.uniform(-1, 1, size=2048)"
      ],
      "metadata": {
        "id": "et_Oi8xo3hXS"
      },
      "execution_count": null,
      "outputs": []
    },
    {
      "cell_type": "code",
      "source": [
        "loop=100000\n",
        "\n",
        "start_time = time.time()\n",
        "for i in range(loop):\n",
        "        cosine_similarity(q, g)\n",
        "end_time = time.time()\n",
        "\n",
        "print(f\"avg time: {(end_time-start_time)/loop:.20f}\")"
      ],
      "metadata": {
        "colab": {
          "base_uri": "https://localhost:8080/"
        },
        "id": "zjl8CKLO4TN6",
        "outputId": "347f0b9a-c0e8-47f2-d0df-a1de5e1a1f46"
      },
      "execution_count": null,
      "outputs": [
        {
          "output_type": "stream",
          "name": "stdout",
          "text": [
            "avg time: 0.00001014024019241333\n"
          ]
        }
      ]
    },
    {
      "cell_type": "code",
      "source": [
        "loop=100000\n",
        "\n",
        "start_time = time.time()\n",
        "for i in range(loop):\n",
        "        cosine(q, g)\n",
        "end_time = time.time()\n",
        "\n",
        "print(f\"avg time: {(end_time-start_time)/loop:.20f}\")"
      ],
      "metadata": {
        "colab": {
          "base_uri": "https://localhost:8080/"
        },
        "id": "-xzyVuyvwm4E",
        "outputId": "90406c54-d429-4146-aa2f-03fd22ad2757"
      },
      "execution_count": null,
      "outputs": [
        {
          "output_type": "stream",
          "name": "stdout",
          "text": [
            "avg time: 0.00004210397481918335\n"
          ]
        }
      ]
    },
    {
      "cell_type": "code",
      "source": [
        "loop=100000\n",
        "\n",
        "start_time = time.time()\n",
        "for i in range(loop):\n",
        "    euclidean(q, g)\n",
        "end_time = time.time()\n",
        "\n",
        "print(f\"avg time: {(end_time-start_time)/loop:.20f}\")"
      ],
      "metadata": {
        "colab": {
          "base_uri": "https://localhost:8080/"
        },
        "id": "3HfXloenxELl",
        "outputId": "247143aa-97c2-4b9a-8806-ffac2120ecee"
      },
      "execution_count": null,
      "outputs": [
        {
          "output_type": "stream",
          "name": "stdout",
          "text": [
            "avg time: 0.00000989174604415894\n"
          ]
        }
      ]
    },
    {
      "cell_type": "markdown",
      "source": [
        "# sort"
      ],
      "metadata": {
        "id": "uZtXV9IYJ0ED"
      }
    },
    {
      "cell_type": "code",
      "source": [
        "import numpy as np\n",
        "import time"
      ],
      "metadata": {
        "id": "jrclVs1Wr8wa"
      },
      "execution_count": null,
      "outputs": []
    },
    {
      "cell_type": "code",
      "source": [
        "r = np.random.uniform(-1, 1, size=10000)\n",
        "ints = np.random.randint(0, 513, size=10000).astype('int16')"
      ],
      "metadata": {
        "id": "hBL_S27PSXNH"
      },
      "execution_count": null,
      "outputs": []
    },
    {
      "cell_type": "code",
      "source": [
        "start_time = time.time()\n",
        "for i in range(loop):\n",
        "    sorted(r)\n",
        "    # np.sort(r)\n",
        "end_time = time.time()\n",
        "print(f\"avg time: {(end_time-start_time)/loop:.20f}\")"
      ],
      "metadata": {
        "colab": {
          "base_uri": "https://localhost:8080/"
        },
        "id": "uNLQFRDbJuy7",
        "outputId": "bb262ef8-f2cd-4169-a79a-4657f3aa4324"
      },
      "execution_count": null,
      "outputs": [
        {
          "output_type": "stream",
          "name": "stdout",
          "text": [
            "avg time: 0.00063193812370300289\n"
          ]
        }
      ]
    },
    {
      "cell_type": "code",
      "source": [
        "loop=5000\n",
        "start_time = time.time()\n",
        "for i in range(loop):\n",
        "    r.sort()\n",
        "end_time = time.time()\n",
        "print(f\"avg time: {(end_time-start_time)/loop:.20f}\")\n",
        "\n",
        "start_time = time.time()\n",
        "for i in range(loop):\n",
        "    ints.sort()\n",
        "    # np.sort(r)\n",
        "end_time = time.time()\n",
        "print(f\"avg time: {(end_time-start_time)/loop:.20f}\")"
      ],
      "metadata": {
        "colab": {
          "base_uri": "https://localhost:8080/"
        },
        "id": "53MvQxdbIzv2",
        "outputId": "6ed39ae3-a380-4372-d7df-bd516e965b91"
      },
      "execution_count": null,
      "outputs": [
        {
          "output_type": "stream",
          "name": "stdout",
          "text": [
            "avg time: 0.00009678144454956054\n",
            "avg time: 0.00013599948883056639\n"
          ]
        }
      ]
    },
    {
      "cell_type": "code",
      "source": [
        "loop=50000\n",
        "start_time = time.time()\n",
        "for i in range(loop):\n",
        "    np.sort(r)\n",
        "end_time = time.time()\n",
        "print(f\"avg time: {(end_time-start_time)/loop:.20f}\")\n",
        "\n",
        "start_time = time.time()\n",
        "for i in range(loop):\n",
        "    np.sort(ints)\n",
        "    # np.sort(r)\n",
        "end_time = time.time()\n",
        "print(f\"avg time: {(end_time-start_time)/loop:.20f}\")"
      ],
      "metadata": {
        "colab": {
          "base_uri": "https://localhost:8080/"
        },
        "id": "jqaauEQ_Hdfz",
        "outputId": "67626325-816a-45b5-b439-d3653583c96c"
      },
      "execution_count": null,
      "outputs": [
        {
          "output_type": "stream",
          "name": "stdout",
          "text": [
            "avg time: 0.00075855509281158443\n",
            "avg time: 0.00052757041454315186\n"
          ]
        }
      ]
    },
    {
      "cell_type": "code",
      "source": [
        "loop=5000\n",
        "start_time = time.time()\n",
        "for i in range(loop):\n",
        "    np.argsort(ints)\n",
        "end_time = time.time()\n",
        "print(f\"avg time: {(end_time-start_time)/loop:.20f}\")"
      ],
      "metadata": {
        "colab": {
          "base_uri": "https://localhost:8080/"
        },
        "id": "zw97wTB54fsg",
        "outputId": "3eed6b5b-a019-4cb6-9baf-ba18aa4da54b"
      },
      "execution_count": null,
      "outputs": [
        {
          "output_type": "stream",
          "name": "stdout",
          "text": [
            "avg time: 0.00075538153648376460\n"
          ]
        }
      ]
    },
    {
      "cell_type": "code",
      "source": [
        "loop=5000\n",
        "start_time = time.time()\n",
        "for i in range(loop):\n",
        "    np.argsort(r)\n",
        "end_time = time.time()\n",
        "print(f\"avg time: {(end_time-start_time)/loop:.20f}\")"
      ],
      "metadata": {
        "colab": {
          "base_uri": "https://localhost:8080/"
        },
        "id": "yFZEmZCIUSSJ",
        "outputId": "f1b56405-31cf-48f9-8bd7-333ee54916cf"
      },
      "execution_count": null,
      "outputs": [
        {
          "output_type": "stream",
          "name": "stdout",
          "text": [
            "avg time: 0.00088270308971405030\n"
          ]
        }
      ]
    },
    {
      "cell_type": "code",
      "source": [
        "loop=2000\n",
        "start_time = time.time()\n",
        "for i in range(loop):\n",
        "    argsort_c(ints)\n",
        "end_time = time.time()\n",
        "print(f\"avg time: {(end_time-start_time)/loop:.20f}\")"
      ],
      "metadata": {
        "colab": {
          "base_uri": "https://localhost:8080/"
        },
        "id": "fs2jNWc67w3e",
        "outputId": "4785ca65-acc0-454c-9b29-3d9648ca6892"
      },
      "execution_count": null,
      "outputs": [
        {
          "output_type": "stream",
          "name": "stdout",
          "text": [
            "avg time: 0.00643223035335540802\n"
          ]
        }
      ]
    },
    {
      "cell_type": "code",
      "source": [
        "def argsort_c(arr):\n",
        "    # find the range of the integers in the array\n",
        "    k = 513\n",
        "\n",
        "    # create a count array to count the occurrences of each integer\n",
        "    count = [0] * k\n",
        "    for i in arr:\n",
        "        count[i] += 1\n",
        "\n",
        "    # modify the count array to contain the indices that would sort the array\n",
        "    for i in range(1, k):\n",
        "        count[i] += count[i-1]\n",
        "\n",
        "    # create a result array and fill it with the sorted indices\n",
        "    result = [0] * len(arr)\n",
        "    for i in range(len(arr)):\n",
        "        result[count[arr[i]]-1] = i\n",
        "        count[arr[i]] -= 1\n",
        "\n",
        "    return result"
      ],
      "metadata": {
        "id": "EuwUJ0Q54fps"
      },
      "execution_count": null,
      "outputs": []
    }
  ]
}